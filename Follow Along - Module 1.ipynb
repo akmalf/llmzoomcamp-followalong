{
 "cells": [
  {
   "cell_type": "markdown",
   "id": "b1572613-9323-44ab-b1c4-956804abd03b",
   "metadata": {},
   "source": [
    "# Set up the OpenAI client and send request for chat completion"
   ]
  },
  {
   "cell_type": "code",
   "execution_count": 1,
   "id": "8f51ea0b-278d-4557-995a-afaa7cbc3cfd",
   "metadata": {},
   "outputs": [],
   "source": [
    "import openai"
   ]
  },
  {
   "cell_type": "code",
   "execution_count": 2,
   "id": "c1bd6b3d-a7c0-4963-a8ea-ad701819d939",
   "metadata": {},
   "outputs": [],
   "source": [
    "from openai import OpenAI"
   ]
  },
  {
   "cell_type": "code",
   "execution_count": 3,
   "id": "c8a47d85-4eb9-44dc-b545-810a45f1a952",
   "metadata": {},
   "outputs": [],
   "source": [
    "client = OpenAI()"
   ]
  },
  {
   "cell_type": "code",
   "execution_count": 6,
   "id": "1a2f8ec3-2654-44d4-b513-5e12ad959c37",
   "metadata": {},
   "outputs": [],
   "source": [
    "import os"
   ]
  },
  {
   "cell_type": "code",
   "execution_count": 8,
   "id": "daacfaa3-147b-4baa-9f13-eedb9bf70957",
   "metadata": {},
   "outputs": [],
   "source": [
    "response = client.chat.completions.create(\n",
    "    model='gpt-4o',\n",
    "    messages=[{\"role\": \"user\", \"content\": \"is it too late to join the course?\"}]\n",
    ")"
   ]
  },
  {
   "cell_type": "code",
   "execution_count": 9,
   "id": "5e48b0b1-41b5-4c47-bf01-abc100abe84c",
   "metadata": {},
   "outputs": [
    {
     "data": {
      "text/plain": [
       "ChatCompletion(id='chatcmpl-BfNH5O1J9v0FcaJYaaZsJ7zoMc0Kx', choices=[Choice(finish_reason='stop', index=0, logprobs=None, message=ChatCompletionMessage(content=\"To determine whether it's too late to join a course, you'll need to consider several factors:\\n\\n1. **Enrollment Deadline:** Check if the course has a specific enrollment deadline. Some courses allow late registration, while others do not.\\n\\n2. **Course Start Date:** If the course has already started, find out how many sessions have been missed and if they can be made up.\\n\\n3. **Institution Policies:** Some educational institutions have policies in place for late admissions. It's worth contacting the course provider to inquire.\\n\\n4. **Course Format:** Online courses sometimes offer more flexibility than in-person ones, including self-paced options that allow you to join at any time.\\n\\n5. **Catch-Up Possibility:** Consider if you realistically can catch up on missed content. Some courses provide recorded lectures or additional resources to help late joiners.\\n\\n6. **Instructor's Permission:** In cases where you’re joining late, obtaining permission from the course instructor can sometimes help facilitate your enrollment.\\n\\nIf you’re seriously interested in the course, reaching out to the admissions office or course coordinator is a good next step to understand your options.\", refusal=None, role='assistant', annotations=[], audio=None, function_call=None, tool_calls=None))], created=1749200615, model='gpt-4o-2024-08-06', object='chat.completion', service_tier='default', system_fingerprint='fp_07871e2ad8', usage=CompletionUsage(completion_tokens=220, prompt_tokens=16, total_tokens=236, completion_tokens_details=CompletionTokensDetails(accepted_prediction_tokens=0, audio_tokens=0, reasoning_tokens=0, rejected_prediction_tokens=0), prompt_tokens_details=PromptTokensDetails(audio_tokens=0, cached_tokens=0)))"
      ]
     },
     "execution_count": 9,
     "metadata": {},
     "output_type": "execute_result"
    }
   ],
   "source": [
    "response"
   ]
  },
  {
   "cell_type": "code",
   "execution_count": 10,
   "id": "2b7758b5-19cd-43d5-8b4e-edc3ce9dbae5",
   "metadata": {},
   "outputs": [
    {
     "data": {
      "text/plain": [
       "\"To determine whether it's too late to join a course, you'll need to consider several factors:\\n\\n1. **Enrollment Deadline:** Check if the course has a specific enrollment deadline. Some courses allow late registration, while others do not.\\n\\n2. **Course Start Date:** If the course has already started, find out how many sessions have been missed and if they can be made up.\\n\\n3. **Institution Policies:** Some educational institutions have policies in place for late admissions. It's worth contacting the course provider to inquire.\\n\\n4. **Course Format:** Online courses sometimes offer more flexibility than in-person ones, including self-paced options that allow you to join at any time.\\n\\n5. **Catch-Up Possibility:** Consider if you realistically can catch up on missed content. Some courses provide recorded lectures or additional resources to help late joiners.\\n\\n6. **Instructor's Permission:** In cases where you’re joining late, obtaining permission from the course instructor can sometimes help facilitate your enrollment.\\n\\nIf you’re seriously interested in the course, reaching out to the admissions office or course coordinator is a good next step to understand your options.\""
      ]
     },
     "execution_count": 10,
     "metadata": {},
     "output_type": "execute_result"
    }
   ],
   "source": [
    "response.choices[0].message.content"
   ]
  }
 ],
 "metadata": {
  "kernelspec": {
   "display_name": "Python 3 (ipykernel)",
   "language": "python",
   "name": "python3"
  },
  "language_info": {
   "codemirror_mode": {
    "name": "ipython",
    "version": 3
   },
   "file_extension": ".py",
   "mimetype": "text/x-python",
   "name": "python",
   "nbconvert_exporter": "python",
   "pygments_lexer": "ipython3",
   "version": "3.12.1"
  }
 },
 "nbformat": 4,
 "nbformat_minor": 5
}
